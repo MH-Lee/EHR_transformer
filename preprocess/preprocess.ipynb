{
 "cells": [
  {
   "cell_type": "code",
   "execution_count": 1,
   "metadata": {},
   "outputs": [],
   "source": [
    "import pickle\n",
    "import numpy as np\n",
    "import pandas as pd\n",
    "from datetime import datetime\n",
    "from tqdm import tqdm"
   ]
  },
  {
   "cell_type": "code",
   "execution_count": 2,
   "metadata": {},
   "outputs": [],
   "source": [
    "with open('../data/preprocessed_X_visit_over3.pkl', 'rb') as f:\n",
    "    data_x = pickle.load(f)\n",
    "\n",
    "with open('../data/preprocessed_y_visit_over3.pkl', 'rb') as f: \n",
    "    labels = pickle.load(f)"
   ]
  },
  {
   "cell_type": "code",
   "execution_count": 3,
   "metadata": {},
   "outputs": [],
   "source": [
    "visit_gt2t_new = {}\n",
    "for k, v in data_x.items():\n",
    "    # print(k, v)\n",
    "    visit_new = {}\n",
    "    for v_k, v_v in v.items():\n",
    "        total_list = list(set(v_v['diagnoses'])) + list(set(v_v['procedures'])) + v_v['drugs']\n",
    "        # visit_new[v_k] = v_v\n",
    "        if len(total_list) > 1:\n",
    "            visit_new[v_k] = {'diagnoses': None, 'procedures':None, 'drugs': None, 'admitdate':None}\n",
    "            visit_new[v_k]['diagnoses'] = list(set(v_v['diagnoses'])) \n",
    "            visit_new[v_k]['procedures'] = list(set(v_v['procedures'])) \n",
    "            visit_new[v_k]['drugs'] = list(set(v_v['drugs'])) \n",
    "            visit_new[v_k]['admitdate'] = v_v['admitdate']\n",
    "    visit_gt2t_new[k] = visit_new"
   ]
  },
  {
   "cell_type": "code",
   "execution_count": 4,
   "metadata": {},
   "outputs": [],
   "source": [
    "adm = pd.read_csv('./admissions.csv.gz', compression='gzip', usecols=['subject_id', 'hadm_id', 'admittime', 'admission_type', 'race'])\n",
    "patients = pd.read_csv('./patients.csv')\n",
    "patients = patients[['subject_id', 'gender','anchor_age','anchor_year']]\n",
    "patients['yob']= patients['anchor_year'] - patients['anchor_age']"
   ]
  },
  {
   "cell_type": "code",
   "execution_count": 5,
   "metadata": {},
   "outputs": [],
   "source": [
    "visit_gt2t_last = {}\n",
    "for k, v in visit_gt2t_new.items():\n",
    "    # break\n",
    "    if len(v) >= 2:\n",
    "        visit_gt2t_last[k] = v"
   ]
  },
  {
   "cell_type": "code",
   "execution_count": 7,
   "metadata": {},
   "outputs": [],
   "source": [
    "data_dict = {}\n",
    "for p_id, v_data in tqdm(visit_gt2t_last.items()):\n",
    "    visit_data = {'seq': [], 'data':[], 'time': [], \n",
    "                  'gender': patients.loc[patients['subject_id'] == p_id, 'gender'].unique()[0],\n",
    "                  'race': adm.loc[adm['subject_id'] == p_id, 'race'].unique()[0]}\n",
    "    for v_id, record in v_data.items():\n",
    "        record['visit_id'] = v_id\n",
    "        record['admission_type'] = adm.loc[(adm['subject_id'] == p_id) & (adm['hadm_id'] == v_id), 'admission_type'].values[0]\n",
    "        dt_obj = datetime.strptime(record['admitdate'], '%Y-%m-%d')\n",
    "        age_at_adm = dt_obj.year - patients.loc[patients['subject_id'] == p_id, 'yob'].values[0]\n",
    "        if age_at_adm < 0:\n",
    "            age_at_adm = 90\n",
    "        record['age'] = age_at_adm\n",
    "        seq_data = record['diagnoses'] + record['procedures'] + record['drugs']\n",
    "        visit_data['seq'].append(seq_data)\n",
    "        visit_data['data'].append(record)\n",
    "        visit_data['time'].append(dt_obj)\n",
    "    \n",
    "    visit_data['seq'].append(['global'])\n",
    "    visit_data['time'].append(visit_data['time'][-1])\n",
    "    \n",
    "    td_list = [(visit_data['time'][-1]- dt).days for dt in visit_data['time']]\n",
    "    visit_data['timedelta'] = td_list\n",
    "    visit_data['labels_origin'] = labels[p_id]['top100_label']\n",
    "    visit_data['labels_bin'] = labels[p_id]['top100_label_bin']\n",
    "    data_dict[p_id] = visit_data"
   ]
  },
  {
   "cell_type": "code",
   "execution_count": 34,
   "metadata": {},
   "outputs": [],
   "source": [
    "with open('../data/data_dict.pkl', 'wb') as f:\n",
    "    pickle.dump(data_dict, f)"
   ]
  },
  {
   "cell_type": "code",
   "execution_count": 4,
   "metadata": {},
   "outputs": [],
   "source": [
    "with open('../data/data_dict.pkl', 'rb') as f:\n",
    "    data_dict = pickle.load(f)"
   ]
  },
  {
   "cell_type": "code",
   "execution_count": 36,
   "metadata": {},
   "outputs": [],
   "source": [
    "d_list = list()\n",
    "p_list = list()\n",
    "dr_list = list()\n",
    "for k, visit in data_dict.items():\n",
    "    for v in visit['data']:\n",
    "        d_list.extend(v['diagnoses'])\n",
    "        p_list.extend(v['procedures'])\n",
    "        dr_list.extend(v['drugs'])\n",
    "        \n",
    "d_list = list(set(d_list))\n",
    "p_list = list(set(p_list))\n",
    "dr_list = list(set(dr_list))"
   ]
  },
  {
   "cell_type": "code",
   "execution_count": 37,
   "metadata": {},
   "outputs": [
    {
     "data": {
      "text/plain": [
       "(869, 747, 3528)"
      ]
     },
     "execution_count": 37,
     "metadata": {},
     "output_type": "execute_result"
    }
   ],
   "source": [
    "len(d_list), len(p_list), len(dr_list)"
   ]
  },
  {
   "cell_type": "code",
   "execution_count": 38,
   "metadata": {},
   "outputs": [],
   "source": [
    "code2idx = {'padding':0}\n",
    "\n",
    "idx = 1\n",
    "for d in d_list:\n",
    "    code2idx[d] = idx\n",
    "    idx += 1\n",
    "\n",
    "for p in p_list:\n",
    "    code2idx[p] = idx\n",
    "    idx += 1\n",
    "\n",
    "dr_idx = 1\n",
    "for dr in dr_list:  \n",
    "    code2idx[dr] = idx\n",
    "    idx += 1\n",
    "\n",
    "code2idx['global'] = idx"
   ]
  },
  {
   "cell_type": "code",
   "execution_count": 45,
   "metadata": {},
   "outputs": [
    {
     "data": {
      "text/plain": [
       "5144"
      ]
     },
     "execution_count": 45,
     "metadata": {},
     "output_type": "execute_result"
    }
   ],
   "source": [
    "code2idx[dr]"
   ]
  },
  {
   "cell_type": "code",
   "execution_count": 46,
   "metadata": {},
   "outputs": [],
   "source": [
    "with open('../data/code_indices/code2idx.pkl', 'wb') as f:\n",
    "    pickle.dump(code2idx, f)"
   ]
  },
  {
   "cell_type": "code",
   "execution_count": 2,
   "metadata": {},
   "outputs": [],
   "source": [
    "import pickle"
   ]
  },
  {
   "cell_type": "code",
   "execution_count": 7,
   "metadata": {},
   "outputs": [],
   "source": [
    "with open('../data/code_indices/code2idx.pkl', 'rb') as f:\n",
    "    code2idx = pickle.load(f)"
   ]
  },
  {
   "cell_type": "code",
   "execution_count": 8,
   "metadata": {},
   "outputs": [],
   "source": [
    "data_dict_idx = data_dict.copy()"
   ]
  },
  {
   "cell_type": "code",
   "execution_count": 9,
   "metadata": {},
   "outputs": [
    {
     "name": "stderr",
     "output_type": "stream",
     "text": [
      "  0%|          | 0/43096 [00:00<?, ?it/s]"
     ]
    },
    {
     "name": "stderr",
     "output_type": "stream",
     "text": [
      "100%|██████████| 43096/43096 [00:00<00:00, 46217.90it/s]\n"
     ]
    }
   ],
   "source": [
    "for k, visit in tqdm(data_dict_idx.items()):\n",
    "    visit['seq_idx'] = [list(map(code2idx.get, v)) for v in visit['seq']]"
   ]
  },
  {
   "cell_type": "code",
   "execution_count": 10,
   "metadata": {},
   "outputs": [
    {
     "name": "stderr",
     "output_type": "stream",
     "text": [
      "100%|██████████| 43096/43096 [00:00<00:00, 100583.68it/s]\n"
     ]
    }
   ],
   "source": [
    "data_dict_new= dict()\n",
    "for p_id in tqdm(list(data_dict_idx.keys())):\n",
    "    p_data = {'visit':[], 'visit_idx': [], 'visit_length':0, 'code_length':[], \\\n",
    "              'seq':None, 'seq_idx':None, 'code_types':None, 'timedelta': None, 'label':[]}\n",
    "    \n",
    "    for v_id, v_data in enumerate(data_dict_idx[p_id]['data']):\n",
    "        p_data['visit'].append(v_data['visit_id'])\n",
    "        p_data['visit_idx'].append(v_id)\n",
    "        p_data['visit_length'] += 1\n",
    "        p_data['code_length'].append(len(data_dict_idx[p_id]['seq'][v_id]))\n",
    "        p_data['seq'] = data_dict_idx[p_id]['seq']\n",
    "        p_data['seq_idx'] = data_dict_idx[p_id]['seq_idx']\n",
    "        p_data['timedelta'] = data_dict_idx[p_id]['timedelta']\n",
    "    \n",
    "    p_data['label'] = np.squeeze(data_dict_idx[p_id]['labels_bin'])\n",
    "    data_dict_new[p_id] = p_data"
   ]
  },
  {
   "cell_type": "code",
   "execution_count": 11,
   "metadata": {},
   "outputs": [
    {
     "name": "stdout",
     "output_type": "stream",
     "text": [
      "10123949 55\n",
      "10264646 76\n",
      "10577647 78\n",
      "10578325 67\n",
      "10580201 59\n",
      "10714009 113\n",
      "10913302 64\n",
      "11021643 63\n",
      "11296936 76\n",
      "11413236 77\n",
      "11553072 69\n",
      "11582633 81\n",
      "11714071 62\n",
      "11761621 56\n",
      "11818101 64\n",
      "11888614 56\n",
      "11890447 66\n",
      "11965254 90\n",
      "12251785 79\n",
      "12468016 88\n",
      "12547294 69\n",
      "12563258 60\n",
      "12596559 63\n",
      "13166511 53\n",
      "13297743 91\n",
      "13470788 52\n",
      "13475033 96\n",
      "13813803 68\n",
      "13877234 60\n",
      "13999829 54\n",
      "14029474 52\n",
      "14318651 81\n",
      "14394983 124\n",
      "15084163 53\n",
      "15107347 51\n",
      "15108590 52\n",
      "15114531 67\n",
      "15229574 79\n",
      "15464144 75\n",
      "15496609 133\n",
      "15935768 56\n",
      "16124481 62\n",
      "16233333 67\n",
      "16439884 58\n",
      "16615356 55\n",
      "16662316 129\n",
      "16675371 66\n",
      "16809525 57\n",
      "16924675 54\n",
      "17011846 56\n",
      "17051420 54\n",
      "17204468 59\n",
      "17340686 51\n",
      "17477304 51\n",
      "17517983 94\n",
      "17716210 80\n",
      "17937834 61\n",
      "18001923 69\n",
      "18136887 62\n",
      "18284271 82\n",
      "18376342 52\n",
      "18553055 55\n",
      "18655830 69\n",
      "18656167 55\n",
      "18676703 59\n",
      "18902344 70\n",
      "18970086 68\n",
      "19127408 51\n",
      "19133405 78\n",
      "19610016 52\n",
      "19713100 62\n",
      "19759225 63\n",
      "19921471 57\n"
     ]
    }
   ],
   "source": [
    "data_dict_max50 = dict()\n",
    "for p_id , data in data_dict_new.items():\n",
    "    new_data = dict()\n",
    "    if len(data['visit']) > 50:\n",
    "        print(p_id, len(data['visit']))\n",
    "    new_data['visit'] = data['visit'][-50:]\n",
    "    new_data['visit_idx'] = data['visit_idx'][-50:]\n",
    "    new_data['visit_length'] = len(data['visit'][-50:]) + 1\n",
    "    new_data['code_length'] = data['code_length'][-50:]\n",
    "    new_data['seq'] = data['seq'][-51:]\n",
    "    new_data['seq_idx'] = data['seq_idx'][-51:]\n",
    "    new_data['timedelta'] = data['timedelta'][-51:]\n",
    "    new_data['label'] = data['label']\n",
    "    data_dict_max50[p_id] = new_data"
   ]
  },
  {
   "cell_type": "code",
   "execution_count": 12,
   "metadata": {},
   "outputs": [
    {
     "data": {
      "text/plain": [
       "43096"
      ]
     },
     "execution_count": 12,
     "metadata": {},
     "output_type": "execute_result"
    }
   ],
   "source": [
    "len(data_dict_max50)"
   ]
  },
  {
   "cell_type": "code",
   "execution_count": 13,
   "metadata": {},
   "outputs": [],
   "source": [
    "with open('../data/data_dict_preprocess_maxlen50.pkl', 'wb') as f:\n",
    "    pickle.dump(data_dict_max50, f)"
   ]
  },
  {
   "cell_type": "code",
   "execution_count": 11,
   "metadata": {},
   "outputs": [],
   "source": [
    "import torch"
   ]
  },
  {
   "cell_type": "code",
   "execution_count": 77,
   "metadata": {},
   "outputs": [],
   "source": [
    "seq = torch.tensor([123, 78, 32, 0, 0, 100000, 100000, 100000, 100000])\n",
    "seq_mask = (seq != 100000).float()\n",
    "last_non_one_idx = torch.where(seq_mask == 1)[0].max().item()\n",
    "seq_final = torch.zeros_like(seq_mask)\n",
    "seq_final[last_non_one_idx] = 1"
   ]
  },
  {
   "cell_type": "code",
   "execution_count": 1,
   "metadata": {},
   "outputs": [],
   "source": [
    "import pickle"
   ]
  },
  {
   "cell_type": "code",
   "execution_count": 3,
   "metadata": {},
   "outputs": [],
   "source": [
    "with open('./gpt_emb/gpt4o_te3_large_v2.pkl', 'rb') as f:\n",
    "    gpt_emb = pickle.load(f)"
   ]
  },
  {
   "cell_type": "code",
   "execution_count": 10,
   "metadata": {},
   "outputs": [
    {
     "data": {
      "text/plain": [
       "870"
      ]
     },
     "execution_count": 10,
     "metadata": {},
     "output_type": "execute_result"
    }
   ],
   "source": [
    "gpt_emb.size(0)"
   ]
  },
  {
   "cell_type": "code",
   "execution_count": null,
   "metadata": {},
   "outputs": [],
   "source": []
  }
 ],
 "metadata": {
  "kernelspec": {
   "display_name": "Python 3",
   "language": "python",
   "name": "python3"
  },
  "language_info": {
   "codemirror_mode": {
    "name": "ipython",
    "version": 3
   },
   "file_extension": ".py",
   "mimetype": "text/x-python",
   "name": "python",
   "nbconvert_exporter": "python",
   "pygments_lexer": "ipython3",
   "version": "3.9.19"
  }
 },
 "nbformat": 4,
 "nbformat_minor": 2
}
